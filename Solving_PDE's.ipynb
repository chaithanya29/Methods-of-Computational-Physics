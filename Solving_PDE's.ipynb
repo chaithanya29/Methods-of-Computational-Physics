{
 "cells": [
  {
   "cell_type": "markdown",
   "metadata": {},
   "source": [
    "# Solving PDE's (heat equation) using FTCS, BTCS and Crank-Nicolson methods"
   ]
  },
  {
   "cell_type": "code",
   "execution_count": 3,
   "metadata": {},
   "outputs": [],
   "source": [
    "import matplotlib.pyplot as plt\n",
    "%matplotlib notebook\n",
    "import numpy as np"
   ]
  },
  {
   "cell_type": "code",
   "execution_count": 11,
   "metadata": {},
   "outputs": [],
   "source": [
    "import scipy.linalg as la"
   ]
  },
  {
   "cell_type": "code",
   "execution_count": 94,
   "metadata": {},
   "outputs": [],
   "source": [
    "def ftcs(a,b,h, delta_t, t0,tf,u0,ua,ub):\n",
    "    n = int((b-a)/h)\n",
    "    m = int((tf-t0)/delta_t)\n",
    "    u = np.zeros((n,m))\n",
    "    t = np.linspace(t0,tf,m)\n",
    "    x = np.linspace(a,b,n)\n",
    "    l = m/n**2\n",
    "    u[:,0] = u0(x)\n",
    "    u[0,:] = ua(t)\n",
    "    u[m-1,:] = ub(t)\n",
    "    #print(u)\n",
    "    for j in range(m-2):\n",
    "        for i in range(1,n-1):\n",
    "            #print(u.shape)\n",
    "            u[i,j+1] = (1-2*l)*u[i,j] + l*(u[i+1,j]+u[i-1,j])\n",
    "            #print(u[i,j+1])\n",
    "    return(u)"
   ]
  },
  {
   "cell_type": "code",
   "execution_count": 61,
   "metadata": {},
   "outputs": [],
   "source": [
    "def btcs(a,b,h, delta_t, t0,tf,u0,ua,ub):\n",
    "    n = int((b-a)/h)\n",
    "    m = int((tf-t0)/delta_t)\n",
    "    u = np.zeros((n,m))\n",
    "    t = np.linspace(t0,tf,m)\n",
    "    x = np.linspace(a,b,n)\n",
    "    l = m/n**2\n",
    "\n",
    "    u[:,0] = u0(x)\n",
    "    u[0,:] = ua(t)\n",
    "    u[m-1,:] = ub(t)\n",
    "    #print(u)\n",
    "    A = np.zeros((n-2,n-2))\n",
    "    for i in range(n-2):\n",
    "        if i==0:\n",
    "            A[i,i] = 1+2*l\n",
    "            A[i,i+1] = -l\n",
    "        elif i==n-3:\n",
    "                A[i,i-1] = -l\n",
    "                A[i,i] = 1+2*l\n",
    "        else:\n",
    "            A[i,i-1] = -l\n",
    "            A[i,i] = 1+2*l\n",
    "            A[i,i+1] = -l\n",
    "    #print(A)\n",
    "    b = np.zeros(n-2)\n",
    "    A_inv = (la.pinv(A)).T       \n",
    "    for j in range(1,m):\n",
    "        b[0] = l*u[0,j]\n",
    "        b[n-3] = l*u[n-1,j]\n",
    "        u[1:n-1,j] = (u[1:n-1,j-1]+b)@A_inv\n",
    "    return(u)"
   ]
  },
  {
   "cell_type": "code",
   "execution_count": 59,
   "metadata": {},
   "outputs": [],
   "source": [
    "def crank_nicolson(a,b,h, delta_t, t0,tf,u0,ua,ub):\n",
    "    n = int((b-a)/h)\n",
    "    m = int((tf-t0)/delta_t)\n",
    "    u = np.zeros((n,m))\n",
    "    t = np.linspace(t0,tf,m)\n",
    "    x = np.linspace(a,b,n)\n",
    "    l = m/n**2\n",
    "\n",
    "    u[:,0] = u0(x)\n",
    "    u[0,:] = ua(t)\n",
    "    u[m-1,:] = ub(t)\n",
    "    \n",
    "    A = np.zeros((n-2,n-2))\n",
    "    B = np.zeros((n-2,n-2))\n",
    "\n",
    "    for i in range(n-2):\n",
    "        if i==0:\n",
    "            A[i,i] = 2*(1-l)\n",
    "            A[i,i+1] = l\n",
    "            B[i,i] = 2*(1+l)\n",
    "            B[i,i+1] = -l\n",
    "        elif i==n-3:\n",
    "                A[i,i-1] = l\n",
    "                A[i,i] = 2*(1-l)\n",
    "                B[i,i-1] = -l\n",
    "                B[i,i] = 2*(1+l)\n",
    "        else:\n",
    "            A[i,i-1] = l\n",
    "            A[i,i] = 2*(1-l)\n",
    "            A[i,i+1] = l\n",
    "            B[i,i-1] = -l\n",
    "            B[i,i] = 2*(1+l)\n",
    "            A[i,i+1] = -l\n",
    "            \n",
    "    b = np.zeros(n-2)\n",
    "    B_inv = (la.pinv(B)).T    \n",
    "    for j in range(1,m):\n",
    "        b[0] = l*u[0,j-1]\n",
    "        b[n-3] = l*u[n-1,j-1]\n",
    "        u[1:n-1,j] = (u[1:n-1,j-1]@A.T+b)@B_inv\n",
    "    return(u)"
   ]
  },
  {
   "cell_type": "code",
   "execution_count": 85,
   "metadata": {},
   "outputs": [],
   "source": [
    "def ivp(x):\n",
    "    return(4*x*(1-x))"
   ]
  },
  {
   "cell_type": "code",
   "execution_count": 66,
   "metadata": {},
   "outputs": [],
   "source": [
    "def bvp(t):\n",
    "    return(0)"
   ]
  },
  {
   "cell_type": "code",
   "execution_count": 71,
   "metadata": {},
   "outputs": [],
   "source": [
    "U_cs = crank_nicolson(0,1,0.01,0.01 ,0,1,ivp,bvp,bvp)"
   ]
  },
  {
   "cell_type": "code",
   "execution_count": 97,
   "metadata": {},
   "outputs": [
    {
     "data": {
      "image/png": "[encoded data removed]",
      "text/plain": [
       "<Figure size 432x288 with 2 Axes>"
      ]
     },
     "metadata": {
      "needs_background": "light"
     },
     "output_type": "display_data"
    }
   ],
   "source": [
    "plt.contourf(np.linspace(0,1,100),np.linspace(0,1,100),U_cs.T, 50, cmap='jet')\n",
    "cbar = plt.colorbar()\n",
    "plt.xlabel(\"X\")\n",
    "plt.ylabel(\"t\")\n",
    "cbar.ax.set_ylabel(\"U(x,t)\")\n",
    "plt.title('Heat equation using Crank Nicolson method')\n",
    "plt.show()"
   ]
  },
  {
   "cell_type": "code",
   "execution_count": null,
   "metadata": {},
   "outputs": [],
   "source": []
  }
 ],
 "metadata": {
  "kernelspec": {
   "display_name": "Python 3",
   "language": "python",
   "name": "python3"
  },
  "language_info": {
   "codemirror_mode": {
    "name": "ipython",
    "version": 3
   },
   "file_extension": ".py",
   "mimetype": "text/x-python",
   "name": "python",
   "nbconvert_exporter": "python",
   "pygments_lexer": "ipython3",
   "version": "3.8.10"
  }
 },
 "nbformat": 4,
 "nbformat_minor": 2
}

{
 "cells": [
  {
   "cell_type": "code",
   "execution_count": 1,
   "metadata": {},
   "outputs": [],
   "source": [
    "import numpy as np\n",
    "import matplotlib.pyplot as plt\n",
    "%matplotlib inline"
   ]
  },
  {
   "cell_type": "markdown",
   "metadata": {},
   "source": [
    "## Solving Schrodinger's Equation using various root finding algorithms"
   ]
  },
  {
   "cell_type": "markdown",
   "metadata": {},
   "source": [
    "\n",
    "For even waveunctions, the equation for finding allowed energy values is - \n",
    "\n",
    "f(E) = l sin(la) - K cos(la) = 0\n",
    "\n",
    "Here, l = (2 m(E+V0)/(h bar)^(2))^(1/2);\n",
    "K = (2 m(- E)/(h bar)^(2))^(1/2);\n",
    "m - mass of electron\n",
    "V0 = 10ev (Depth of potential well)\n",
    "a = 5 angstroms (2a = width of potential well)\n",
    "\n",
    "We normalise and find the coefficients of the wavefunction by:\n",
    "B = C cos(la) exp(Ka)\n",
    "F = B\n",
    "(B^(2)/K) exp(-Ka) + C^(2)/2 (2a - sin(2la)/l) = 1\n",
    "F, B, C are as defined in the class.\n",
    " \n",
    "For odd waveunctions, the equation for finding allowed energy values is - \n",
    "\n",
    "f(E) = l cos(la)+ K sin(la) = 0\n",
    "\n",
    "We normalise and find the coefficients of the wavefunction by:\n",
    "B = C cos(la) exp(Ka)\n",
    "F = - B\n",
    "(B^(2)/K) exp(-Ka) + C^(2)/2 (2a + sin(2la)/l) = 1\n"
   ]
  },
  {
   "cell_type": "code",
   "execution_count": 2,
   "metadata": {},
   "outputs": [],
   "source": [
    "def bisect_method(f,a,b,tol):\n",
    "    #return(f(2))\n",
    "    if f(a)*f(b)>0:\n",
    "        return(\"Incorrect range\")\n",
    "    elif f(a)==0:\n",
    "        return(a)\n",
    "    elif f(b) ==0:\n",
    "        return(b)\n",
    "    else:\n",
    "        err = abs(b-a)\n",
    "        while err>=tol:\n",
    "            c = (a+b)/2\n",
    "                #print(c)\n",
    "            if f(c)==0:\n",
    "                return (c)\n",
    "            elif (f(a)*f(c)<0):\n",
    "                b=c\n",
    "                    #print(\"b\")\n",
    "            else:\n",
    "                a=c\n",
    "                    #print(\"a\")\n",
    "            err = abs(b-a)\n",
    "\n",
    "    return(a)"
   ]
  },
  {
   "cell_type": "code",
   "execution_count": 105,
   "metadata": {},
   "outputs": [],
   "source": [
    "def brute_force(f,a,b):\n",
    "    \"\"\"Function for finding rough intervals where roots lie\"\"\"\n",
    "    x = np.linspace(a,b,1000) \n",
    "    intervals = np.array([])\n",
    "    for i in range(1000-1):\n",
    "        if f(x[i])*f(x[i+1])<0:\n",
    "            if len(intervals)==0:\n",
    "                intervals = np.array([x[i],x[i+1]])\n",
    "            else:\n",
    "                intervals = np.vstack((intervals,np.array([x[i],x[i+1]])))\n",
    "    return(intervals)"
   ]
  },
  {
   "cell_type": "code",
   "execution_count": 106,
   "metadata": {},
   "outputs": [],
   "source": [
    "def func_even(E):\n",
    "    \"\"\"Equation to be solved for finding energy solutions for even states\"\"\"\n",
    "    V0 = 10\n",
    "    l = np.sqrt(E + V0)\n",
    "    kappa = np.sqrt(-E)\n",
    "    return(l*np.sin(l/np.sqrt(0.1523))-kappa*np.cos(l/np.sqrt(0.1523)))\n"
   ]
  },
  {
   "cell_type": "code",
   "execution_count": 109,
   "metadata": {},
   "outputs": [],
   "source": [
    "def func_odd(E):\n",
    "    \"\"\"Equation to be solved for finding energy solutions for even states\"\"\"\n",
    "    V0 = 10\n",
    "    l = np.sqrt(E + V0)\n",
    "    kappa = np.sqrt(-E)\n",
    "    return(l*np.cos(l/np.sqrt(0.1523))+kappa*np.sin(l/np.sqrt(0.1523)))\n"
   ]
  },
  {
   "cell_type": "code",
   "execution_count": 40,
   "metadata": {},
   "outputs": [],
   "source": [
    "def norm_odd(c):\n",
    "    \"\"\"Function for finding the coefficients of the odd wavefunction\"\"\"\n",
    "    E = E_odd3\n",
    "    a = 5\n",
    "    V0 = 10\n",
    "    la = np.sqrt(E + V0)/np.sqrt(0.1523)\n",
    "    l = la/a\n",
    "    ka = np.sqrt(-E)/np.sqrt(0.1523)\n",
    "    k = ka/a\n",
    "    B = c*np.sin(la)*np.exp(ka)\n",
    "    return(((B**(2))*np.exp(-2*ka)+(c**(2))*(2*a - np.sin(2*la)/l))-1)"
   ]
  },
  {
   "cell_type": "code",
   "execution_count": 36,
   "metadata": {},
   "outputs": [],
   "source": [
    "def norm_even(c):\n",
    "    \"\"\"Function for finding the coefficients of the odd wavefunction\"\"\"\n",
    "    E = E_even3\n",
    "    a = 5\n",
    "    V0 = 10\n",
    "    la = np.sqrt(E + V0)/np.sqrt(0.1523)\n",
    "    l = la/a\n",
    "    ka = np.sqrt(-E)/np.sqrt(0.1523)\n",
    "    k = ka/a\n",
    "    B = c*np.sin(la)*np.exp(ka)\n",
    "    return(((B**(2))*np.exp(-2*ka)+(c**(2))*(2*a + np.sin(2*la)/l))-1)"
   ]
  },
  {
   "cell_type": "code",
   "execution_count": 8,
   "metadata": {},
   "outputs": [
    {
     "data": {
      "text/plain": [
       "array([[-9.70970971, -9.6996997 ],\n",
       "       [-7.35735736, -7.34734735],\n",
       "       [-2.86286286, -2.85285285]])"
      ]
     },
     "execution_count": 8,
     "metadata": {},
     "output_type": "execute_result"
    }
   ],
   "source": [
    "brute_force(func_even, -10,0) #intervals where energy solutions for the even wavefunction exist"
   ]
  },
  {
   "cell_type": "code",
   "execution_count": 9,
   "metadata": {},
   "outputs": [
    {
     "data": {
      "text/plain": [
       "array([[-8.81881882, -8.80880881],\n",
       "       [-5.34534535, -5.33533534],\n",
       "       [-0.24024024, -0.23023023]])"
      ]
     },
     "execution_count": 9,
     "metadata": {},
     "output_type": "execute_result"
    }
   ],
   "source": [
    "brute_force(func_odd, -10,0) #intervals where energy solutions for the odd wavefunction exist"
   ]
  },
  {
   "cell_type": "code",
   "execution_count": 10,
   "metadata": {},
   "outputs": [],
   "source": [
    "E_odd1 = bisect_method(func_odd,-8.81881882, -8.80880881, 0.001) #finding energy solutions by finding roots \n",
    "E_odd2 = bisect_method(func_odd,-5.34534535, -5.33533534, 0.001) # of func_even\n",
    "E_odd3 = bisect_method(func_odd,-0.24024024, -0.23023023, 0.001)"
   ]
  },
  {
   "cell_type": "code",
   "execution_count": 110,
   "metadata": {},
   "outputs": [],
   "source": [
    "E_even1 = bisect_method(func_even,-9.70970971, -9.6996997, 0.001)#finding energy solutions by finding roots\n",
    "E_even2 = bisect_method(func_even,-7.35735736, -7.34734735, 0.001) # of func_odd\n",
    "E_even3 = bisect_method(func_even,-2.86286286, -2.85285285, 0.001)"
   ]
  },
  {
   "cell_type": "code",
   "execution_count": 13,
   "metadata": {},
   "outputs": [
    {
     "data": {
      "text/plain": [
       "array([[-0.2952953 , -0.28528529],\n",
       "       [ 0.28528529,  0.2952953 ]])"
      ]
     },
     "execution_count": 13,
     "metadata": {},
     "output_type": "execute_result"
    }
   ],
   "source": [
    "brute_force(norm_even, -5,5) #interval of solutions to the coefficients of even wavefunctions"
   ]
  },
  {
   "cell_type": "code",
   "execution_count": 14,
   "metadata": {},
   "outputs": [],
   "source": [
    "c_even1 = bisect_method(norm_even,0.28528529,  0.28728729,0.001 ) # coefficients of the even wavefunction\n",
    "b_even1 = c_even1*np.cos(np.sqrt(E_even1 + 10)/np.sqrt(0.1523))*np.exp(np.sqrt(-E_even1)/np.sqrt(0.1523))"
   ]
  },
  {
   "cell_type": "code",
   "execution_count": 16,
   "metadata": {},
   "outputs": [
    {
     "data": {
      "text/plain": [
       "array([[-0.2952953 , -0.28528529],\n",
       "       [ 0.28528529,  0.2952953 ]])"
      ]
     },
     "execution_count": 16,
     "metadata": {},
     "output_type": "execute_result"
    }
   ],
   "source": [
    "brute_force(norm_even, -5,5)"
   ]
  },
  {
   "cell_type": "code",
   "execution_count": 18,
   "metadata": {},
   "outputs": [],
   "source": [
    "c_even2 = bisect_method(norm_even,0.28528529,  0.2952953,0.001 )\n",
    "b_even2 = c_even2*np.cos(np.sqrt(E_even2 + 10)/np.sqrt(0.1523))*np.exp(np.sqrt(-E_even2)/np.sqrt(0.1523))"
   ]
  },
  {
   "cell_type": "code",
   "execution_count": 20,
   "metadata": {},
   "outputs": [
    {
     "data": {
      "text/plain": [
       "array([[-0.30530531, -0.2952953 ],\n",
       "       [ 0.2952953 ,  0.30530531]])"
      ]
     },
     "execution_count": 20,
     "metadata": {},
     "output_type": "execute_result"
    }
   ],
   "source": [
    "brute_force(norm_even, -5,5)"
   ]
  },
  {
   "cell_type": "code",
   "execution_count": 21,
   "metadata": {},
   "outputs": [],
   "source": [
    "c_even3 = bisect_method(norm_even,0.2952953 ,  0.30530531,0.001 )\n",
    "b_even3 = c_even3*np.cos(np.sqrt(E_even3 + 10)/np.sqrt(0.1523))*np.exp(np.sqrt(-E_even3)/np.sqrt(0.1523))"
   ]
  },
  {
   "cell_type": "code",
   "execution_count": 23,
   "metadata": {},
   "outputs": [
    {
     "data": {
      "text/plain": [
       "array([[-0.30530531, -0.2952953 ],\n",
       "       [ 0.2952953 ,  0.30530531]])"
      ]
     },
     "execution_count": 23,
     "metadata": {},
     "output_type": "execute_result"
    }
   ],
   "source": [
    "brute_force(norm_odd, -5,5) #interval of solutions to the coefficients of odd wavefunctions"
   ]
  },
  {
   "cell_type": "code",
   "execution_count": 64,
   "metadata": {},
   "outputs": [],
   "source": [
    "c_odd1 = bisect_method(norm_odd,0.2952953 ,  0.30530531,0.001 )# coefficients of the odd wavefunction\n",
    "b_odd1 = -c_odd1*np.sin(np.sqrt(E_odd1 + 10)/np.sqrt(0.1523))*np.exp(np.sqrt(-E_odd1)/np.sqrt(0.1523))\n",
    "f_odd1 = -b_odd1"
   ]
  },
  {
   "cell_type": "code",
   "execution_count": 28,
   "metadata": {},
   "outputs": [
    {
     "data": {
      "text/plain": [
       "array([[-0.30530531, -0.2952953 ],\n",
       "       [ 0.2952953 ,  0.30530531]])"
      ]
     },
     "execution_count": 28,
     "metadata": {},
     "output_type": "execute_result"
    }
   ],
   "source": [
    "brute_force(norm_odd, -5,5)"
   ]
  },
  {
   "cell_type": "code",
   "execution_count": 65,
   "metadata": {},
   "outputs": [],
   "source": [
    "c_odd2 = bisect_method(norm_odd,0.2952953 ,  0.30530531,0.001 )\n",
    "b_odd2 = -c_odd2*np.sin(np.sqrt(E_odd2 + 10)/np.sqrt(0.1523))*np.exp(np.sqrt(-E_odd2)/np.sqrt(0.1523))\n",
    "f_odd2 = -b_odd2"
   ]
  },
  {
   "cell_type": "code",
   "execution_count": 41,
   "metadata": {},
   "outputs": [
    {
     "data": {
      "text/plain": [
       "array([[-0.30530531, -0.2952953 ],\n",
       "       [ 0.2952953 ,  0.30530531]])"
      ]
     },
     "execution_count": 41,
     "metadata": {},
     "output_type": "execute_result"
    }
   ],
   "source": [
    "brute_force(norm_odd, -5,5)"
   ]
  },
  {
   "cell_type": "code",
   "execution_count": 66,
   "metadata": {},
   "outputs": [],
   "source": [
    "c_odd3 = bisect_method(norm_odd,0.2952953 ,  0.30530531,0.001 )\n",
    "b_odd3 = -c_odd3*np.sin(np.sqrt(E_odd3 + 10)/np.sqrt(0.1523))*np.exp(np.sqrt(-E_odd3)/np.sqrt(0.1523))\n",
    "f_odd3 = -b_odd3"
   ]
  },
  {
   "cell_type": "code",
   "execution_count": 83,
   "metadata": {},
   "outputs": [],
   "source": [
    "def wf_b(b,E):\n",
    "    \"\"\"Function for plotting wavefunction for x < -a\"\"\"\n",
    "    k = (np.sqrt(-E)/np.sqrt(0.1523))/5\n",
    "    psi = np.array([])\n",
    "    x = np.linspace(-20,20,200)\n",
    "    for i in x:\n",
    "        if i<=-5:\n",
    "            psi = np.append(psi,b*np.exp(k*i))\n",
    "        else:\n",
    "            psi = np.append(psi, 0)\n",
    "    return(psi)"
   ]
  },
  {
   "cell_type": "code",
   "execution_count": 111,
   "metadata": {},
   "outputs": [],
   "source": [
    "def sincos(c,string,E):\n",
    "    \"\"\"Function for plotting wavefunction for -a < x < a\"\"\"\n",
    "    psi = np.array([])\n",
    "    x = np.linspace(-20,20,200)\n",
    "    l = (np.sqrt(E + 10)/np.sqrt(0.1523))/5\n",
    "    if string == 'odd':\n",
    "        for i in x:\n",
    "            if i>=-5 and i<=5:\n",
    "                psi = np.append(psi,c*np.sin(l*i))\n",
    "            else:\n",
    "                psi = np.append(psi,0)\n",
    "    else:\n",
    "        for i in x:\n",
    "            if i>=-5 and i<=5:\n",
    "                psi = np.append(psi,c*np.cos(l*i))\n",
    "            else:\n",
    "                psi = np.append(psi,0)\n",
    "    return(psi)"
   ]
  },
  {
   "cell_type": "code",
   "execution_count": 112,
   "metadata": {},
   "outputs": [],
   "source": [
    "def wf_f(b,E):\n",
    "    \"\"\"Function for plotting wavefunction for x > a\"\"\"\n",
    "    k = (np.sqrt(-E)/np.sqrt(0.1523))/5\n",
    "    psi = np.array([])\n",
    "    x = np.linspace(-20,20,200)\n",
    "    for i in x:\n",
    "        if i>=5:\n",
    "            psi = np.append(psi,b*np.exp(-k*i))\n",
    "        else:\n",
    "            psi = np.append(psi, 0)\n",
    "    return(psi)"
   ]
  },
  {
   "cell_type": "code",
   "execution_count": 100,
   "metadata": {},
   "outputs": [
    {
     "data": {
      "image/png": "[encoded data removed]",
      "text/plain": [
       "<Figure size 432x288 with 1 Axes>"
      ]
     },
     "metadata": {
      "needs_background": "light"
     },
     "output_type": "display_data"
    }
   ],
   "source": [
    "plt.plot(np.linspace(-20,20,200),wf_b(b_even1, E_even1)+sincos(c_even1,'even', E_even1)+ wf_f(b_even1, E_even1))\n",
    "plt.plot(np.linspace(-20,20,200),wf_b(b_even2, E_even2)+sincos(c_even2,'even', E_even2)+ wf_f(b_even2, E_even2))\n",
    "plt.plot(np.linspace(-20,20,200),wf_b(b_even3, E_even3)+sincos(c_even3,'even', E_even3)+ wf_f(b_even3, E_even3))\n",
    "plt.xlabel(\"x\")\n",
    "plt.ylabel(\"psi(x)\")\n",
    "plt.legend(['E = -9.7ev','E = -7.35ev','E = -2.86ev'])\n",
    "plt.title(\"Even wavefunctions\")\n",
    "plt.show()"
   ]
  },
  {
   "cell_type": "code",
   "execution_count": 104,
   "metadata": {},
   "outputs": [
    {
     "data": {
      "image/png": "[encoded data removed]",
      "text/plain": [
       "<Figure size 432x288 with 1 Axes>"
      ]
     },
     "metadata": {
      "needs_background": "light"
     },
     "output_type": "display_data"
    }
   ],
   "source": [
    "plt.plot(np.linspace(-20,20,200),wf_b(b_odd1, E_odd1)+sincos(c_odd1,'odd', E_odd1)+ wf_f(f_odd1, E_odd1))\n",
    "plt.plot(np.linspace(-20,20,200),wf_b(b_odd2, E_odd2)+sincos(c_odd2,'odd', E_odd2)+ wf_f(f_odd2, E_odd2))\n",
    "plt.plot(np.linspace(-20,20,200),wf_b(b_odd3, E_odd3)+sincos(c_odd3,'odd', E_odd3)+ wf_f(f_odd3, E_odd3))\n",
    "plt.xlabel(\"x\")\n",
    "plt.ylabel(\"psi(x)\")\n",
    "plt.legend(['E = -8.81ev','E = -5.35ev','E = -0.23ev'])\n",
    "plt.title(\"Odd wavefunctions\")\n",
    "plt.show()"
   ]
  },
  {
   "cell_type": "code",
   "execution_count": null,
   "metadata": {},
   "outputs": [],
   "source": []
  }
 ],
 "metadata": {
  "kernelspec": {
   "display_name": "Python 3",
   "language": "python",
   "name": "python3"
  },
  "language_info": {
   "codemirror_mode": {
    "name": "ipython",
    "version": 3
   },
   "file_extension": ".py",
   "mimetype": "text/x-python",
   "name": "python",
   "nbconvert_exporter": "python",
   "pygments_lexer": "ipython3",
   "version": "3.8.10"
  }
 },
 "nbformat": 4,
 "nbformat_minor": 2
}

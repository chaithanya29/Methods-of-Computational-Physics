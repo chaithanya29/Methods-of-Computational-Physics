{
 "cells": [
  {
   "cell_type": "code",
   "execution_count": 1,
   "metadata": {},
   "outputs": [],
   "source": [
    "import numpy as np\n",
    "import matplotlib.pyplot as plt\n",
    "%matplotlib inline"
   ]
  },
  {
   "cell_type": "markdown",
   "metadata": {},
   "source": [
    "Q1.\n",
    "Taking reduced coordinates here as $r = r/\\sigma$ and $energy = energy/\\epsilon$, we get the reduced equation for the potential as $$V_{LJ} = 4((\\frac{1}{r})^{12} - (\\frac{1}{r})^{6})$$. Differentiating this w.r.t r gives $$V'_{LJ} = -24(2*(\\frac{1}{r})^{13} - (\\frac{1}{r})^{7})$$."
   ]
  },
  {
   "cell_type": "markdown",
   "metadata": {},
   "source": [
    "Solution to $V=0$ analytically is $r = 1$ or $r = \\sigma$ in normal coordinates. The position where V is minimum is when $V'=0$, which gives $r = 2^{1/6}$ analytically. Verifying these results numerically, I solve the equations $V=0$ and $V'=0$ using the bisection method as below:"
   ]
  },
  {
   "cell_type": "code",
   "execution_count": 2,
   "metadata": {},
   "outputs": [],
   "source": [
    "def LJ_pot(d): #defining the LEnnard-Jones Potential\n",
    "    return(4*((1/d)**12-(1/d)**6))"
   ]
  },
  {
   "cell_type": "code",
   "execution_count": 522,
   "metadata": {},
   "outputs": [
    {
     "data": {
      "image/png": "[encoded data removed]",
      "text/plain": [
       "<Figure size 432x288 with 1 Axes>"
      ]
     },
     "metadata": {
      "needs_background": "light"
     },
     "output_type": "display_data"
    }
   ],
   "source": [
    "plt.plot(np.linspace(0.95,4,100),LJ_pot(np.linspace(0.95,4,100)))\n",
    "plt.plot([0]*5)\n",
    "plt.title(\"Lennard-Jones Potential\")\n",
    "plt.ylabel(\"V\")\n",
    "plt.xlabel(\"d\")\n",
    "plt.show()"
   ]
  },
  {
   "cell_type": "code",
   "execution_count": 7,
   "metadata": {},
   "outputs": [],
   "source": [
    "def LJ_pot_diff(d): # defining the differential of the Lennard-Jones potential\n",
    "    return(-(24/d)*((2/np.power(d,12)) - (1/np.power(d,6))))"
   ]
  },
  {
   "cell_type": "code",
   "execution_count": 527,
   "metadata": {},
   "outputs": [
    {
     "data": {
      "image/png": "[encoded data removed]",
      "text/plain": [
       "<Figure size 432x288 with 1 Axes>"
      ]
     },
     "metadata": {
      "needs_background": "light"
     },
     "output_type": "display_data"
    }
   ],
   "source": [
    "plt.plot(np.linspace(0.98,3,100),LJ_pot_diff(np.linspace(0.98,3,100)))\n",
    "plt.plot([0]*4)\n",
    "plt.title(\"Differential of the Lennard-Jones Potential\")\n",
    "plt.ylabel(\"V'\")\n",
    "plt.xlabel(\"d\")\n",
    "plt.show()"
   ]
  },
  {
   "cell_type": "code",
   "execution_count": 31,
   "metadata": {},
   "outputs": [],
   "source": [
    "def bisect_method(f,a,b,tol): \n",
    "#finding root of the function f with the root inside (a,b)\n",
    "#with given tolerence tol\n",
    "\tif f(a)==0:\n",
    "\t\treturn(a)\n",
    "\tif f(b)==0:\n",
    "\t\treturn(b)\n",
    "\tif f(a)*f(b)>0:\n",
    "\t\treturn(\"Incorrect range\")\n",
    "\telse:\n",
    "\t\terr = abs(b-a)\n",
    "\t\twhile err>tol:\n",
    "\t\t\tc = (a+b)/2\n",
    "\t\t\tif f(c)==0:\n",
    "\t\t\t\treturn (c)\n",
    "\t\t\telif f(a)*f(c)<0:\n",
    "\t\t\t\tb=c\n",
    "\t\t\telse:\n",
    "\t\t\t\ta=c\n",
    "\t\t\terr=abs(b-a)\n",
    "\treturn (a)"
   ]
  },
  {
   "cell_type": "code",
   "execution_count": 35,
   "metadata": {},
   "outputs": [
    {
     "data": {
      "text/plain": [
       "0.9999755859375001"
      ]
     },
     "execution_count": 35,
     "metadata": {},
     "output_type": "execute_result"
    }
   ],
   "source": [
    "bisect_method(LJ_pot,0.9,1.5,0.0001) #solving for the equation V=0"
   ]
  },
  {
   "cell_type": "code",
   "execution_count": 16,
   "metadata": {},
   "outputs": [
    {
     "data": {
      "text/plain": [
       "1.1224365234375"
      ]
     },
     "execution_count": 16,
     "metadata": {},
     "output_type": "execute_result"
    }
   ],
   "source": [
    "bisect_method(LJ_pot_diff,1,1.5,0.0001) #solving for the equation V'=0"
   ]
  },
  {
   "cell_type": "code",
   "execution_count": 507,
   "metadata": {},
   "outputs": [
    {
     "data": {
      "text/plain": [
       "1.122462048309373"
      ]
     },
     "execution_count": 507,
     "metadata": {},
     "output_type": "execute_result"
    }
   ],
   "source": [
    "np.power(2,1/6) #analytical solution for V'=0"
   ]
  },
  {
   "cell_type": "markdown",
   "metadata": {},
   "source": [
    "As we can see in the outputs above, we get the solutions to the two equations within a tolerence of $10^{-4}$"
   ]
  },
  {
   "cell_type": "markdown",
   "metadata": {},
   "source": [
    "The system tends to stay distance that keeps the potential at the minimum. Hence, the minimum energy required to tear the atoms pair apart is the energy difference between the points V(r) = 0 and V(r_min)=0"
   ]
  },
  {
   "cell_type": "code",
   "execution_count": 36,
   "metadata": {},
   "outputs": [],
   "source": [
    "min_energy = LJ_pot(bisect_method(LJ_pot,1,1.5,0.0001))-LJ_pot(bisect_method(LJ_pot_diff,1,1.5,0.0001))"
   ]
  },
  {
   "cell_type": "code",
   "execution_count": 37,
   "metadata": {},
   "outputs": [
    {
     "data": {
      "text/plain": [
       "0.999999981381039"
      ]
     },
     "execution_count": 37,
     "metadata": {},
     "output_type": "execute_result"
    }
   ],
   "source": [
    "min_energy  #the minimum energy required to tear the atoms pair apart "
   ]
  },
  {
   "cell_type": "markdown",
   "metadata": {},
   "source": [
    "Q2. The boundary-value-problem $y'' + 3y' - 5y = 7x$, y(0) = -20 and y(1) = 100 can be solved numerically by the finite difference method. I expand the differentials centrally as $y'(x_{n}) = (y(x_{n+1}) - y(x_{n-1}))/2 \\delta x$  and $y''(x_{n}) = (y(x_{n+1}) + y(x_{n-1}) - 2y(x_{n})/2 \\delta x^{2}$ and solve the simultaneous equations using matrices as AY = B. Here A is the coefficient matrix, Y are the $Y_{n}$ and B are the RHS."
   ]
  },
  {
   "cell_type": "code",
   "execution_count": 529,
   "metadata": {},
   "outputs": [],
   "source": [
    "def f_x(x): #RHS for the B vector\n",
    "    return(7*x)"
   ]
  },
  {
   "cell_type": "code",
   "execution_count": 530,
   "metadata": {},
   "outputs": [],
   "source": [
    "#creating the coeeficient matrix\n",
    "x0 = 0 # boundary values\n",
    "x1 = 1\n",
    "N = 100 #number of interations\n",
    "h = (x1 - x0)/(N) # \\delta x\n",
    "a1 = 1/h**2 - 3/(2*h) # elements for the coefficient matrix\n",
    "a2 = -2/h**2 - 5\n",
    "a3 = 1/h**2 + 3/(2*h)"
   ]
  },
  {
   "cell_type": "code",
   "execution_count": 531,
   "metadata": {},
   "outputs": [],
   "source": [
    "ar = np.zeros((N-2,N-2)) #coefficient matrix\n",
    "for i in range(N-2):\n",
    "    ar[i][i] = a2\n",
    "    if (i-1!=-1):\n",
    "        ar[i][i-1] = a1\n",
    "    if(i+1!=N-2):\n",
    "        ar[i][i+1] = a3"
   ]
  },
  {
   "cell_type": "code",
   "execution_count": 532,
   "metadata": {},
   "outputs": [],
   "source": [
    "B = f_x(np.linspace(0,1,100)[1:99]) # the RHS vector B, given as 7*(x_{n})"
   ]
  },
  {
   "cell_type": "code",
   "execution_count": 533,
   "metadata": {},
   "outputs": [],
   "source": [
    "B[0]-= a1*(-20) # using the boundary conditions to reduce the simultaneous equations number from 100 -> 98\n",
    "B[97] -= a3*(100)"
   ]
  },
  {
   "cell_type": "code",
   "execution_count": 535,
   "metadata": {},
   "outputs": [],
   "source": [
    "Y = np.zeros(100)\n",
    "Y[0] = -20\n",
    "Y[99] = 100\n",
    "Y[1:99] = np.dot(np.linalg.inv(ar),B)"
   ]
  },
  {
   "cell_type": "code",
   "execution_count": 536,
   "metadata": {},
   "outputs": [
    {
     "data": {
      "image/png": "[encoded data removed]",
      "text/plain": [
       "<Figure size 432x288 with 1 Axes>"
      ]
     },
     "metadata": {
      "needs_background": "light"
     },
     "output_type": "display_data"
    }
   ],
   "source": [
    "plt.plot(np.linspace(0,1,100),Y)\n",
    "plt.title(\"Numerical solution to the differential equation\")\n",
    "plt.xlabel(\"x\")\n",
    "plt.ylabel(\"y\")\n",
    "plt.show()"
   ]
  },
  {
   "cell_type": "markdown",
   "metadata": {},
   "source": [
    "The error is ~ $O(\\delta x^{2})$. Here I have chosen N=100, hence $\\delta x = h$ ~ 0.01 and $\\delta x^{2}$ ~ 0.0001, which gives an accuracy of 4 significant-digits."
   ]
  },
  {
   "cell_type": "markdown",
   "metadata": {},
   "source": [
    "Q3. Modelling the interaction between atoms in a molecule as the Lennard-Jones potential and using the reduced coordinates as defined in Q1. above, I have made the molecular dynamics simulation in 2D (since 3D takes extremely long times to run). I have chosen a square lattice as the initial positions of the particles, with 8 unit cells in each edge, giving 64 unit cells in total. Each unit cell holds one atom, and hence there are 64 atoms in the simulation cell. I have also used periodic boundary conditions: r(x+L) = r(x), L: length of simulation cell; in calculations of particle paths, potential energy of interaction between particles and force of interaction."
   ]
  },
  {
   "cell_type": "code",
   "execution_count": 537,
   "metadata": {},
   "outputs": [],
   "source": [
    "a=1 # choosing the lenght of a unit cell to be 1\n",
    "initial_lattice = a*np.array([(x,y) for x in range(8) for y in range(8)]) \n",
    "# creating the inital postion lattice of the particles \n",
    "\n",
    "N=8 \n",
    "no_of_atoms = N**2 # total number of particles in a simulation cell\n",
    "\n",
    "# defining inintial velocities\n",
    "T_i = 0.2 #initial temperature of the system in reduced coordinates\n",
    "V_in = np.random.normal(0, np.sqrt(T_i),(no_of_atoms,2)) # initial velocities derieved from the Maxwell-Boltzmann distribution"
   ]
  },
  {
   "cell_type": "code",
   "execution_count": 538,
   "metadata": {},
   "outputs": [
    {
     "data": {
      "image/png": "[encoded data removed]",
      "text/plain": [
       "<Figure size 432x288 with 1 Axes>"
      ]
     },
     "metadata": {
      "needs_background": "light"
     },
     "output_type": "display_data"
    }
   ],
   "source": [
    "plt.scatter(initial_lattice[:,0],initial_lattice[:,1])\n",
    "plt.title(\"initial postions of particles - 2D square lattice of side length 8a\")\n",
    "plt.xlabel(\"x\")\n",
    "plt.ylabel(\"y\")\n",
    "plt.show()"
   ]
  },
  {
   "cell_type": "code",
   "execution_count": 497,
   "metadata": {},
   "outputs": [],
   "source": [
    "no_step = 1000 # number of time steps used in the sollowing simulation\n",
    "trajectories = np.zeros((no_step,no_of_atoms,2)) # trajectories of all the particles at all time steps\n",
    "velocities = np.zeros((no_step,no_of_atoms,2)) # velocities of all the particles at all time steps\n",
    "trajectories[0] = initial_lattice%(N*a) # initial positions\n",
    "velocities[0] = V_in #initial velocities\n",
    "\n",
    "rc = 2.5 # cutoff length, beyond which the the potential and hence force falls to zero\n",
    "#defining arrays for storing Kinetic energies, potential energies and temperature of the system at each time step\n",
    "K_energy = np.zeros((no_step-1))\n",
    "P_energy = np.zeros((no_step-1))\n",
    "T = np.zeros((no_step-1))\n",
    "time_step = 0.005 #time step\n"
   ]
  },
  {
   "cell_type": "code",
   "execution_count": 406,
   "metadata": {},
   "outputs": [],
   "source": [
    "# For applying periodic boundary conditions, we see that each simulation cell is surrounded by 8 other cells\n",
    "# in a 2D square lattice. The following are the vectors which give the postions to the other 8 cells from \n",
    "# the original cell.\n",
    "R = np.zeros((9,2)) #image coordinates\n",
    "origin = np.array([0,0])\n",
    "R[0] = N*a*np.array([0,0]) + origin \n",
    "R[1] = N*a*np.array([1,0]) + origin \n",
    "R[2] = N*a*np.array([-1,0]) + origin  \n",
    "R[3] = N*a*np.array([0,1]) + origin\n",
    "R[4] = N*a*np.array([0,-1]) + origin\n",
    "R[5] = N*a*np.array([1,-1]) + origin\n",
    "R[6] = N*a*np.array([1,1]) + origin \n",
    "R[7] = N*a*np.array([-1,1]) + origin\n",
    "R[8] = N*a*np.array([-1,-1]) + origin "
   ]
  },
  {
   "cell_type": "code",
   "execution_count": 433,
   "metadata": {},
   "outputs": [],
   "source": [
    "# total kinetic energy of one configuration of particles\n",
    "def KE(v):\n",
    "    # v - velocity of all particles\n",
    "    return (0.5*np.sum(v**2))/no_of_atoms"
   ]
  },
  {
   "cell_type": "code",
   "execution_count": 434,
   "metadata": {},
   "outputs": [],
   "source": [
    "# total potential energy of one a particle of index idx, at a given time t\n",
    "def PE(t,idx):\n",
    "    # t = time index\n",
    "    # idx = particle index\n",
    "    U = 0 \n",
    "    d_arr = (trajectories[t] - trajectories[t][idx]) # displacement vector of all particles wrt particle \"idx\"\n",
    "    for j in range(no_of_atoms):\n",
    "        r = R + d_arr[j] # defining the displacement vectors of a particles j wrt particles idx in all adjacent cells\n",
    "        d = np.sum(r**2,axis = 1) \n",
    "        dist = np.sqrt(np.min(d)) # choosing the image of the particle j nearest to particle idx\n",
    "        if (0 < dist < rc): # cutoff condition\n",
    "            U += 4*((1/dist)**12-(1/dist)**6) # potential energy of interaction\n",
    "    return (U)"
   ]
  },
  {
   "cell_type": "code",
   "execution_count": 435,
   "metadata": {},
   "outputs": [],
   "source": [
    "def force(t,idx): # force due to all other particles on particle idx\n",
    "    d_arr = (trajectories[t] - trajectories[t][idx])\n",
    "    f = np.zeros(2)\n",
    "    for j in range(no_of_atoms):\n",
    "        r = R + d_arr[j]\n",
    "        d = np.sum(r**2,axis = 1)\n",
    "        m = np.argmin(d)\n",
    "        dist = np.sqrt(np.min(d))\n",
    "        if (0 < dist < rc):\n",
    "            f += -(24/dist**2)*(2*(1/dist)**12 - (1/dist)**6)*r[m]\n",
    "    return(f)"
   ]
  },
  {
   "cell_type": "code",
   "execution_count": 481,
   "metadata": {},
   "outputs": [],
   "source": [
    "#first iterate, at time t=1 time step\n",
    "for i in range(no_of_atoms):\n",
    "    f = force(0,i)\n",
    "    P_energy[0]+=PE(0,i)\n",
    "    #using Verlet algorithm to calculate the position and velocities in the next time step\n",
    "    rm = trajectories[0][i] - (velocities[0][i])*time_step + (1/2)*f*time_step\n",
    "    trajectories[1][i] = 2*trajectories[0][i] - np.array(rm) + f*time_step**2\n",
    "\n",
    "trajectories = trajectories%(N*a)"
   ]
  },
  {
   "cell_type": "code",
   "execution_count": 482,
   "metadata": {},
   "outputs": [],
   "source": [
    "# updating for time t = 1\n",
    "P_energy = P_energy/(2*no_of_atoms)\n",
    "K_energy[0] = KE(V_in)\n",
    "T[0] = (2/3)*K_energy[0]"
   ]
  },
  {
   "cell_type": "code",
   "execution_count": 453,
   "metadata": {},
   "outputs": [],
   "source": [
    "def evolve(idx): # evolution of the trajectories and velocities at time and particle indices idx\n",
    "    time_idx, atom_idx = idx\n",
    "    U = PE(time_idx,atom_idx)\n",
    "    f = force(time_idx,atom_idx)\n",
    "\n",
    "    d = trajectories[time_idx][atom_idx] - trajectories[time_idx-1][atom_idx]\n",
    "    for j in range(2):\n",
    "        if(d[j]**2>rc**2):\n",
    "            d[j] = np.sign(d[j])*(np.abs(d[j])-N*a)\n",
    "            \n",
    "    #Verlet algorithm\n",
    "    r = trajectories[time_idx][atom_idx] + d + f*(time_step**2)\n",
    "    vel = (d + (1/2)*f*(time_step**2))/time_step\n",
    "\n",
    "    return (r,vel,U/(2*no_of_atoms))"
   ]
  },
  {
   "cell_type": "code",
   "execution_count": 500,
   "metadata": {},
   "outputs": [],
   "source": [
    "#calculating the physical quantities for all times\n",
    "for i in range(1,no_step-1):\n",
    "    \n",
    "    for j in range(no_of_atoms):\n",
    "        result = evolve((i,j))\n",
    "        trajectories[i+1][j] = result[0]\n",
    "        velocities[i][j] = result[1]\n",
    "        P_energy[i]+= result[2]\n",
    "\n",
    "    trajectories = trajectories%(N*a)\n",
    "    K_energy[i] = KE(velocities[i])\n",
    "    T[i] = (2/3)*K_energy[i]\n"
   ]
  },
  {
   "cell_type": "code",
   "execution_count": 540,
   "metadata": {},
   "outputs": [
    {
     "data": {
      "image/png": "[encoded data removed]",
      "text/plain": [
       "<Figure size 432x288 with 1 Axes>"
      ]
     },
     "metadata": {
      "needs_background": "light"
     },
     "output_type": "display_data"
    }
   ],
   "source": [
    "plt.plot(P_energy)\n",
    "plt.plot(K_energy)\n",
    "plt.plot(T)\n",
    "plt.plot(P_energy+K_energy)\n",
    "plt.title(\"MD simulation for a microcanonical ensemble\")\n",
    "plt.xlabel(\"time\")\n",
    "plt.legend([\"KE\",\"T\",\"E\",\"PE\"])\n",
    "plt.show()"
   ]
  },
  {
   "cell_type": "code",
   "execution_count": null,
   "metadata": {},
   "outputs": [],
   "source": []
  },
  {
   "cell_type": "markdown",
   "metadata": {},
   "source": [
    "Q4. Random walk metropolis algorithm for Monte Carlo method of integration"
   ]
  },
  {
   "cell_type": "code",
   "execution_count": 220,
   "metadata": {},
   "outputs": [],
   "source": [
    "def exponential(x): # exonential weight function w(x) = a*exp(-ax)\n",
    "    a = 1\n",
    "    return (a*np.exp(-a*x))"
   ]
  },
  {
   "cell_type": "code",
   "execution_count": 602,
   "metadata": {},
   "outputs": [],
   "source": [
    "def gaus_wt(x): # gaussian weight function w(x) = exp(-(x)^2/4)/sqrt(2pi*s), mean = 0\n",
    "    s = np.sqrt(2) #standard deviaion\n",
    "    return(np.exp(-(x**2)/(2*s*s)))"
   ]
  },
  {
   "cell_type": "code",
   "execution_count": 603,
   "metadata": {},
   "outputs": [],
   "source": [
    "def g(x): # the function to be averaged, f(x) = x^2/sqrt(2*pi), taking normalisation into consideration\n",
    "    s = np.sqrt(2)\n",
    "    return((x**2))"
   ]
  },
  {
   "cell_type": "code",
   "execution_count": 235,
   "metadata": {},
   "outputs": [],
   "source": [
    "def sub_metrop(x,wt,delta,w): # metropolis subroutine to generate gaussian distributeed random variables.\n",
    "    xt= x - delta*(2*np.random.uniform()-1)\n",
    "    w1 = wt(xt)\n",
    "    r = w1/w\n",
    "    flag = 0\n",
    "    if (r > np.random.uniform()):\n",
    "        flag=1\n",
    "        return(xt,w1,flag)\n",
    "    else:\n",
    "        return(x,w,flag)"
   ]
  },
  {
   "cell_type": "code",
   "execution_count": 251,
   "metadata": {},
   "outputs": [
    {
     "data": {
      "image/png": "[encoded data removed]",
      "text/plain": [
       "<Figure size 432x288 with 1 Axes>"
      ]
     },
     "metadata": {
      "needs_background": "light"
     },
     "output_type": "display_data"
    }
   ],
   "source": [
    "x0 = 0 #generating exponential distributed random variables \n",
    "ar = np.zeros(2000)\n",
    "W = exponential(x0)\n",
    "acc_r =0\n",
    "for i in range(2000):\n",
    "    X = sub_metrop(x0,exponential,1,W)\n",
    "    if (X[0]<0):\n",
    "        continue\n",
    "    x0 = X[0]\n",
    "    W = X[1]\n",
    "    acc_r += X[2]\n",
    "    ar[i] = x0\n",
    "\n",
    "plt.hist(ar,bins = 40)\n",
    "plt.title(\"Exponential distributed random variables produced by metropolis et al algorithm\")\n",
    "plt.show()"
   ]
  },
  {
   "cell_type": "code",
   "execution_count": 298,
   "metadata": {},
   "outputs": [
    {
     "data": {
      "image/png": "[encoded data removed]",
      "text/plain": [
       "<Figure size 432x288 with 1 Axes>"
      ]
     },
     "metadata": {
      "needs_background": "light"
     },
     "output_type": "display_data"
    }
   ],
   "source": [
    "x0 = 0 #generating normal distributed random variables \n",
    "ar = np.zeros(2000)\n",
    "W = gaus_wt(x0)\n",
    "acc_r =0\n",
    "for i in range(2000):\n",
    "    X = sub_metrop(x0,gaus_wt,1,W)\n",
    "    x0 = X[0]\n",
    "    W = X[1]\n",
    "    acc_r += X[2]\n",
    "    ar[i] = x0\n",
    "    #print(x0,W)\n",
    "#print(acc_r/10000)\n",
    "plt.hist(ar)\n",
    "plt.title(\"Gaussian distributed random variables produced by metropolis et al algorithm\")\n",
    "plt.show()"
   ]
  },
  {
   "cell_type": "code",
   "execution_count": 586,
   "metadata": {},
   "outputs": [],
   "source": [
    "def metrop(X0,step,no_steps): \n",
    "    #metropolis algorithm for generating normally distributed points with step length\n",
    "    # \"step\" for \"no_of_steps\" interations\n",
    "    x0 = X0\n",
    "    ar = np.zeros(no_steps)\n",
    "    W = gaus_wt(x0)\n",
    "    acc_r =0\n",
    "    for i in range(no_steps):\n",
    "        X = sub_metrop(x0,gaus_wt,step,W)\n",
    "        x0 = X[0]\n",
    "        W = X[1]\n",
    "        acc_r += X[2]\n",
    "        ar[i] = x0\n",
    "    return(acc_r/no_steps,ar)"
   ]
  },
  {
   "cell_type": "code",
   "execution_count": 622,
   "metadata": {},
   "outputs": [],
   "source": [
    "#variation with initial position of walker\n",
    "X0_1 = np.array([0,0.1,0.3,1]) #inital position values\n",
    "\n",
    "l1 = len(X0_1)\n",
    "r1 = np.zeros(l1)\n",
    "\n",
    "integral_val1 = np.zeros(l1)\n",
    "efficiency1 = np.zeros(l1)\n",
    "for k in range(l1):\n",
    "    m = metrop(X0_1[k],1,10000)\n",
    "    r1[k] = m[0]\n",
    "    integral_val1[k] = sum(g(m[1]))/10000\n",
    "    efficiency1[k] = 4*np.pi - integral_val1[k]\n",
    "    "
   ]
  },
  {
   "cell_type": "code",
   "execution_count": 623,
   "metadata": {},
   "outputs": [],
   "source": [
    "integral_val1 = integral_val1*np.sqrt(4*np.pi) #normalisation"
   ]
  },
  {
   "cell_type": "code",
   "execution_count": 625,
   "metadata": {},
   "outputs": [
    {
     "data": {
      "image/png": "[encoded data removed]",
      "text/plain": [
       "<Figure size 432x288 with 1 Axes>"
      ]
     },
     "metadata": {
      "needs_background": "light"
     },
     "output_type": "display_data"
    }
   ],
   "source": [
    "plt.scatter(X0_1,integral_val1)\n",
    "plt.plot([4*np.sqrt(np.pi)]*2)\n",
    "plt.title(\"Change in integral value with initial walker position\")\n",
    "plt.ylabel(\"Integral value calculated\")\n",
    "plt.xlabel(\"initial position\")\n",
    "plt.show()"
   ]
  },
  {
   "cell_type": "markdown",
   "metadata": {},
   "source": [
    "As we can see, there is no relation between the starting position of the walker and the integral value."
   ]
  },
  {
   "cell_type": "code",
   "execution_count": 616,
   "metadata": {},
   "outputs": [],
   "source": [
    "therm_steps = [100,300,1000,3000,10000] # steps allowed for thermalisation\n",
    "metro_therm = metrop(0.3,1,50000)[1]\n",
    "integ_therm = np.zeros(len(therm_steps))\n",
    "for i in range(len(therm_steps)):\n",
    "    integ_therm[i] = sum(g(metro_therm[therm_steps[i]:]))/(50000-therm_steps[i])"
   ]
  },
  {
   "cell_type": "code",
   "execution_count": 618,
   "metadata": {},
   "outputs": [
    {
     "data": {
      "image/png": "[encoded data removed]",
      "text/plain": [
       "<Figure size 432x288 with 1 Axes>"
      ]
     },
     "metadata": {
      "needs_background": "light"
     },
     "output_type": "display_data"
    }
   ],
   "source": [
    "plt.scatter([100,300,1000,3000,10000],integ_therm*np.sqrt(4*np.pi))\n",
    "plt.plot([4*np.sqrt(np.pi)]*10000)\n",
    "plt.ylim(6.5,8)\n",
    "plt.title(\"Variation by changing number of steps for thermalisation\")\n",
    "plt.ylabel(\"Integral value calculated\")\n",
    "plt.xlabel(\"thermalisation steps\")\n",
    "plt.show()"
   ]
  },
  {
   "cell_type": "markdown",
   "metadata": {},
   "source": [
    "In the above plot, we can see that we get a better estimate of the integration value by letting more number of steps thermalize"
   ]
  },
  {
   "cell_type": "code",
   "execution_count": null,
   "metadata": {},
   "outputs": [],
   "source": []
  }
 ],
 "metadata": {
  "kernelspec": {
   "display_name": "Python 3",
   "language": "python",
   "name": "python3"
  },
  "language_info": {
   "codemirror_mode": {
    "name": "ipython",
    "version": 3
   },
   "file_extension": ".py",
   "mimetype": "text/x-python",
   "name": "python",
   "nbconvert_exporter": "python",
   "pygments_lexer": "ipython3",
   "version": "3.8.10"
  }
 },
 "nbformat": 4,
 "nbformat_minor": 2
}
